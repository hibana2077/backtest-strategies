{
 "cells": [
  {
   "cell_type": "code",
   "execution_count": 1,
   "metadata": {},
   "outputs": [],
   "source": [
    "import pandas as pd\n",
    "import numpy as np\n",
    "from pycaret.classification import *"
   ]
  },
  {
   "cell_type": "code",
   "execution_count": 2,
   "metadata": {},
   "outputs": [],
   "source": [
    "path = '../data/ETHUSDT_5m.csv'\n",
    "df = pd.read_csv(path)"
   ]
  },
  {
   "cell_type": "code",
   "execution_count": 3,
   "metadata": {},
   "outputs": [],
   "source": [
    "#make label\n",
    "#rule : if next 10 bar is higher than current bar about 0.25%, label is 1, else 0\n",
    "df['label'] = np.where(df['close'].shift(-10) > df['close'] * 1.0025, 1, 0)\n",
    "df = df.dropna()"
   ]
  },
  {
   "cell_type": "code",
   "execution_count": 4,
   "metadata": {},
   "outputs": [
    {
     "data": {
      "text/plain": [
       "label\n",
       "0    2367\n",
       "1     633\n",
       "dtype: int64"
      ]
     },
     "execution_count": 4,
     "metadata": {},
     "output_type": "execute_result"
    }
   ],
   "source": [
    "df.value_counts('label')"
   ]
  },
  {
   "cell_type": "code",
   "execution_count": 5,
   "metadata": {},
   "outputs": [],
   "source": [
    "df = df.drop(['time'], axis=1)"
   ]
  },
  {
   "cell_type": "code",
   "execution_count": 6,
   "metadata": {},
   "outputs": [
    {
     "data": {
      "text/html": [
       "<style type=\"text/css\">\n",
       "#T_89048_row8_col1, #T_89048_row12_col1, #T_89048_row14_col1 {\n",
       "  background-color: lightgreen;\n",
       "}\n",
       "</style>\n",
       "<table id=\"T_89048\">\n",
       "  <thead>\n",
       "    <tr>\n",
       "      <th class=\"blank level0\" >&nbsp;</th>\n",
       "      <th id=\"T_89048_level0_col0\" class=\"col_heading level0 col0\" >Description</th>\n",
       "      <th id=\"T_89048_level0_col1\" class=\"col_heading level0 col1\" >Value</th>\n",
       "    </tr>\n",
       "  </thead>\n",
       "  <tbody>\n",
       "    <tr>\n",
       "      <th id=\"T_89048_level0_row0\" class=\"row_heading level0 row0\" >0</th>\n",
       "      <td id=\"T_89048_row0_col0\" class=\"data row0 col0\" >Session id</td>\n",
       "      <td id=\"T_89048_row0_col1\" class=\"data row0 col1\" >123</td>\n",
       "    </tr>\n",
       "    <tr>\n",
       "      <th id=\"T_89048_level0_row1\" class=\"row_heading level0 row1\" >1</th>\n",
       "      <td id=\"T_89048_row1_col0\" class=\"data row1 col0\" >Target</td>\n",
       "      <td id=\"T_89048_row1_col1\" class=\"data row1 col1\" >label</td>\n",
       "    </tr>\n",
       "    <tr>\n",
       "      <th id=\"T_89048_level0_row2\" class=\"row_heading level0 row2\" >2</th>\n",
       "      <td id=\"T_89048_row2_col0\" class=\"data row2 col0\" >Target type</td>\n",
       "      <td id=\"T_89048_row2_col1\" class=\"data row2 col1\" >Binary</td>\n",
       "    </tr>\n",
       "    <tr>\n",
       "      <th id=\"T_89048_level0_row3\" class=\"row_heading level0 row3\" >3</th>\n",
       "      <td id=\"T_89048_row3_col0\" class=\"data row3 col0\" >Original data shape</td>\n",
       "      <td id=\"T_89048_row3_col1\" class=\"data row3 col1\" >(3000, 6)</td>\n",
       "    </tr>\n",
       "    <tr>\n",
       "      <th id=\"T_89048_level0_row4\" class=\"row_heading level0 row4\" >4</th>\n",
       "      <td id=\"T_89048_row4_col0\" class=\"data row4 col0\" >Transformed data shape</td>\n",
       "      <td id=\"T_89048_row4_col1\" class=\"data row4 col1\" >(2895, 6)</td>\n",
       "    </tr>\n",
       "    <tr>\n",
       "      <th id=\"T_89048_level0_row5\" class=\"row_heading level0 row5\" >5</th>\n",
       "      <td id=\"T_89048_row5_col0\" class=\"data row5 col0\" >Transformed train set shape</td>\n",
       "      <td id=\"T_89048_row5_col1\" class=\"data row5 col1\" >(1995, 6)</td>\n",
       "    </tr>\n",
       "    <tr>\n",
       "      <th id=\"T_89048_level0_row6\" class=\"row_heading level0 row6\" >6</th>\n",
       "      <td id=\"T_89048_row6_col0\" class=\"data row6 col0\" >Transformed test set shape</td>\n",
       "      <td id=\"T_89048_row6_col1\" class=\"data row6 col1\" >(900, 6)</td>\n",
       "    </tr>\n",
       "    <tr>\n",
       "      <th id=\"T_89048_level0_row7\" class=\"row_heading level0 row7\" >7</th>\n",
       "      <td id=\"T_89048_row7_col0\" class=\"data row7 col0\" >Numeric features</td>\n",
       "      <td id=\"T_89048_row7_col1\" class=\"data row7 col1\" >5</td>\n",
       "    </tr>\n",
       "    <tr>\n",
       "      <th id=\"T_89048_level0_row8\" class=\"row_heading level0 row8\" >8</th>\n",
       "      <td id=\"T_89048_row8_col0\" class=\"data row8 col0\" >Preprocess</td>\n",
       "      <td id=\"T_89048_row8_col1\" class=\"data row8 col1\" >True</td>\n",
       "    </tr>\n",
       "    <tr>\n",
       "      <th id=\"T_89048_level0_row9\" class=\"row_heading level0 row9\" >9</th>\n",
       "      <td id=\"T_89048_row9_col0\" class=\"data row9 col0\" >Imputation type</td>\n",
       "      <td id=\"T_89048_row9_col1\" class=\"data row9 col1\" >simple</td>\n",
       "    </tr>\n",
       "    <tr>\n",
       "      <th id=\"T_89048_level0_row10\" class=\"row_heading level0 row10\" >10</th>\n",
       "      <td id=\"T_89048_row10_col0\" class=\"data row10 col0\" >Numeric imputation</td>\n",
       "      <td id=\"T_89048_row10_col1\" class=\"data row10 col1\" >mean</td>\n",
       "    </tr>\n",
       "    <tr>\n",
       "      <th id=\"T_89048_level0_row11\" class=\"row_heading level0 row11\" >11</th>\n",
       "      <td id=\"T_89048_row11_col0\" class=\"data row11 col0\" >Categorical imputation</td>\n",
       "      <td id=\"T_89048_row11_col1\" class=\"data row11 col1\" >mode</td>\n",
       "    </tr>\n",
       "    <tr>\n",
       "      <th id=\"T_89048_level0_row12\" class=\"row_heading level0 row12\" >12</th>\n",
       "      <td id=\"T_89048_row12_col0\" class=\"data row12 col0\" >Remove outliers</td>\n",
       "      <td id=\"T_89048_row12_col1\" class=\"data row12 col1\" >True</td>\n",
       "    </tr>\n",
       "    <tr>\n",
       "      <th id=\"T_89048_level0_row13\" class=\"row_heading level0 row13\" >13</th>\n",
       "      <td id=\"T_89048_row13_col0\" class=\"data row13 col0\" >Outliers threshold</td>\n",
       "      <td id=\"T_89048_row13_col1\" class=\"data row13 col1\" >0.050000</td>\n",
       "    </tr>\n",
       "    <tr>\n",
       "      <th id=\"T_89048_level0_row14\" class=\"row_heading level0 row14\" >14</th>\n",
       "      <td id=\"T_89048_row14_col0\" class=\"data row14 col0\" >Normalize</td>\n",
       "      <td id=\"T_89048_row14_col1\" class=\"data row14 col1\" >True</td>\n",
       "    </tr>\n",
       "    <tr>\n",
       "      <th id=\"T_89048_level0_row15\" class=\"row_heading level0 row15\" >15</th>\n",
       "      <td id=\"T_89048_row15_col0\" class=\"data row15 col0\" >Normalize method</td>\n",
       "      <td id=\"T_89048_row15_col1\" class=\"data row15 col1\" >zscore</td>\n",
       "    </tr>\n",
       "    <tr>\n",
       "      <th id=\"T_89048_level0_row16\" class=\"row_heading level0 row16\" >16</th>\n",
       "      <td id=\"T_89048_row16_col0\" class=\"data row16 col0\" >Fold Generator</td>\n",
       "      <td id=\"T_89048_row16_col1\" class=\"data row16 col1\" >StratifiedKFold</td>\n",
       "    </tr>\n",
       "    <tr>\n",
       "      <th id=\"T_89048_level0_row17\" class=\"row_heading level0 row17\" >17</th>\n",
       "      <td id=\"T_89048_row17_col0\" class=\"data row17 col0\" >Fold Number</td>\n",
       "      <td id=\"T_89048_row17_col1\" class=\"data row17 col1\" >10</td>\n",
       "    </tr>\n",
       "    <tr>\n",
       "      <th id=\"T_89048_level0_row18\" class=\"row_heading level0 row18\" >18</th>\n",
       "      <td id=\"T_89048_row18_col0\" class=\"data row18 col0\" >CPU Jobs</td>\n",
       "      <td id=\"T_89048_row18_col1\" class=\"data row18 col1\" >-1</td>\n",
       "    </tr>\n",
       "    <tr>\n",
       "      <th id=\"T_89048_level0_row19\" class=\"row_heading level0 row19\" >19</th>\n",
       "      <td id=\"T_89048_row19_col0\" class=\"data row19 col0\" >Use GPU</td>\n",
       "      <td id=\"T_89048_row19_col1\" class=\"data row19 col1\" >False</td>\n",
       "    </tr>\n",
       "    <tr>\n",
       "      <th id=\"T_89048_level0_row20\" class=\"row_heading level0 row20\" >20</th>\n",
       "      <td id=\"T_89048_row20_col0\" class=\"data row20 col0\" >Log Experiment</td>\n",
       "      <td id=\"T_89048_row20_col1\" class=\"data row20 col1\" >MlflowLogger</td>\n",
       "    </tr>\n",
       "    <tr>\n",
       "      <th id=\"T_89048_level0_row21\" class=\"row_heading level0 row21\" >21</th>\n",
       "      <td id=\"T_89048_row21_col0\" class=\"data row21 col0\" >Experiment Name</td>\n",
       "      <td id=\"T_89048_row21_col1\" class=\"data row21 col1\" >ethusdt_5m</td>\n",
       "    </tr>\n",
       "    <tr>\n",
       "      <th id=\"T_89048_level0_row22\" class=\"row_heading level0 row22\" >22</th>\n",
       "      <td id=\"T_89048_row22_col0\" class=\"data row22 col0\" >USI</td>\n",
       "      <td id=\"T_89048_row22_col1\" class=\"data row22 col1\" >c6e9</td>\n",
       "    </tr>\n",
       "  </tbody>\n",
       "</table>\n"
      ],
      "text/plain": [
       "<pandas.io.formats.style.Styler at 0x7f3fb9cc7eb0>"
      ]
     },
     "metadata": {},
     "output_type": "display_data"
    },
    {
     "name": "stderr",
     "output_type": "stream",
     "text": [
      "2023/10/28 12:41:14 INFO mlflow.tracking.fluent: Experiment with name 'ethusdt_5m' does not exist. Creating a new experiment.\n"
     ]
    }
   ],
   "source": [
    "s = setup(df, target='label', session_id=123, log_experiment=True, experiment_name='ethusdt_5m',preprocess=True,normalize=True,remove_outliers=True,outliers_method='iforest')"
   ]
  },
  {
   "cell_type": "code",
   "execution_count": 7,
   "metadata": {},
   "outputs": [
    {
     "data": {
      "text/html": [
       "<div>\n",
       "<style scoped>\n",
       "    .dataframe tbody tr th:only-of-type {\n",
       "        vertical-align: middle;\n",
       "    }\n",
       "\n",
       "    .dataframe tbody tr th {\n",
       "        vertical-align: top;\n",
       "    }\n",
       "\n",
       "    .dataframe thead th {\n",
       "        text-align: right;\n",
       "    }\n",
       "</style>\n",
       "<table border=\"1\" class=\"dataframe\">\n",
       "  <thead>\n",
       "    <tr style=\"text-align: right;\">\n",
       "      <th></th>\n",
       "      <th></th>\n",
       "      <th></th>\n",
       "    </tr>\n",
       "    <tr>\n",
       "      <th></th>\n",
       "      <th></th>\n",
       "      <th></th>\n",
       "    </tr>\n",
       "  </thead>\n",
       "  <tbody>\n",
       "    <tr>\n",
       "      <th>Initiated</th>\n",
       "      <td>. . . . . . . . . . . . . . . . . .</td>\n",
       "      <td>12:41:14</td>\n",
       "    </tr>\n",
       "    <tr>\n",
       "      <th>Status</th>\n",
       "      <td>. . . . . . . . . . . . . . . . . .</td>\n",
       "      <td>Fitting 10 Folds</td>\n",
       "    </tr>\n",
       "    <tr>\n",
       "      <th>Estimator</th>\n",
       "      <td>. . . . . . . . . . . . . . . . . .</td>\n",
       "      <td>Logistic Regression</td>\n",
       "    </tr>\n",
       "  </tbody>\n",
       "</table>\n",
       "</div>"
      ],
      "text/plain": [
       "                                                                   \n",
       "                                                                   \n",
       "Initiated  . . . . . . . . . . . . . . . . . .             12:41:14\n",
       "Status     . . . . . . . . . . . . . . . . . .     Fitting 10 Folds\n",
       "Estimator  . . . . . . . . . . . . . . . . . .  Logistic Regression"
      ]
     },
     "metadata": {},
     "output_type": "display_data"
    },
    {
     "data": {
      "text/html": [
       "<style type=\"text/css\">\n",
       "#T_b403f th {\n",
       "  text-align: left;\n",
       "}\n",
       "#T_b403f_row0_col0, #T_b403f_row0_col3, #T_b403f_row0_col5, #T_b403f_row0_col6, #T_b403f_row0_col7, #T_b403f_row1_col0, #T_b403f_row1_col1, #T_b403f_row1_col2, #T_b403f_row1_col3, #T_b403f_row1_col4, #T_b403f_row1_col5, #T_b403f_row1_col6, #T_b403f_row1_col7, #T_b403f_row2_col0, #T_b403f_row2_col1, #T_b403f_row2_col2, #T_b403f_row2_col3, #T_b403f_row2_col4, #T_b403f_row2_col5, #T_b403f_row2_col6, #T_b403f_row2_col7, #T_b403f_row3_col0, #T_b403f_row3_col1, #T_b403f_row3_col2, #T_b403f_row3_col3, #T_b403f_row3_col4, #T_b403f_row3_col5, #T_b403f_row3_col6, #T_b403f_row3_col7, #T_b403f_row4_col0, #T_b403f_row4_col1, #T_b403f_row4_col2, #T_b403f_row4_col3, #T_b403f_row4_col4, #T_b403f_row4_col5, #T_b403f_row4_col6, #T_b403f_row4_col7, #T_b403f_row5_col0, #T_b403f_row5_col1, #T_b403f_row5_col2, #T_b403f_row5_col3, #T_b403f_row5_col4, #T_b403f_row5_col5, #T_b403f_row6_col0, #T_b403f_row6_col1, #T_b403f_row6_col2, #T_b403f_row6_col3, #T_b403f_row6_col4, #T_b403f_row6_col5, #T_b403f_row6_col6, #T_b403f_row6_col7, #T_b403f_row7_col0, #T_b403f_row7_col1, #T_b403f_row7_col2, #T_b403f_row7_col3, #T_b403f_row7_col4, #T_b403f_row7_col5, #T_b403f_row7_col6, #T_b403f_row7_col7, #T_b403f_row8_col0, #T_b403f_row8_col1, #T_b403f_row8_col2, #T_b403f_row8_col3, #T_b403f_row8_col4, #T_b403f_row8_col5, #T_b403f_row8_col6, #T_b403f_row8_col7, #T_b403f_row9_col0, #T_b403f_row9_col1, #T_b403f_row9_col2, #T_b403f_row9_col3, #T_b403f_row9_col4, #T_b403f_row9_col5, #T_b403f_row9_col6, #T_b403f_row9_col7, #T_b403f_row10_col0, #T_b403f_row10_col1, #T_b403f_row10_col2, #T_b403f_row10_col3, #T_b403f_row10_col4, #T_b403f_row10_col5, #T_b403f_row10_col6, #T_b403f_row10_col7, #T_b403f_row11_col0, #T_b403f_row11_col1, #T_b403f_row11_col2, #T_b403f_row11_col3, #T_b403f_row11_col4, #T_b403f_row11_col5, #T_b403f_row11_col6, #T_b403f_row11_col7, #T_b403f_row12_col0, #T_b403f_row12_col1, #T_b403f_row12_col2, #T_b403f_row12_col4, #T_b403f_row12_col6, #T_b403f_row12_col7, #T_b403f_row13_col0, #T_b403f_row13_col1, #T_b403f_row13_col2, #T_b403f_row13_col3, #T_b403f_row13_col4, #T_b403f_row13_col5, #T_b403f_row13_col6, #T_b403f_row13_col7, #T_b403f_row14_col0, #T_b403f_row14_col1, #T_b403f_row14_col2, #T_b403f_row14_col3, #T_b403f_row14_col4, #T_b403f_row14_col5, #T_b403f_row14_col6, #T_b403f_row14_col7, #T_b403f_row15_col0, #T_b403f_row15_col1, #T_b403f_row15_col2, #T_b403f_row15_col3, #T_b403f_row15_col4, #T_b403f_row15_col5, #T_b403f_row15_col6, #T_b403f_row15_col7 {\n",
       "  text-align: left;\n",
       "}\n",
       "#T_b403f_row0_col1, #T_b403f_row0_col2, #T_b403f_row0_col4, #T_b403f_row5_col6, #T_b403f_row5_col7, #T_b403f_row12_col3, #T_b403f_row12_col5 {\n",
       "  text-align: left;\n",
       "  background-color: yellow;\n",
       "}\n",
       "#T_b403f_row0_col8, #T_b403f_row1_col8, #T_b403f_row2_col8, #T_b403f_row3_col8, #T_b403f_row4_col8, #T_b403f_row5_col8, #T_b403f_row6_col8, #T_b403f_row7_col8, #T_b403f_row8_col8, #T_b403f_row9_col8, #T_b403f_row11_col8, #T_b403f_row12_col8, #T_b403f_row13_col8, #T_b403f_row14_col8 {\n",
       "  text-align: left;\n",
       "  background-color: lightgrey;\n",
       "}\n",
       "#T_b403f_row10_col8, #T_b403f_row15_col8 {\n",
       "  text-align: left;\n",
       "  background-color: yellow;\n",
       "  background-color: lightgrey;\n",
       "}\n",
       "</style>\n",
       "<table id=\"T_b403f\">\n",
       "  <thead>\n",
       "    <tr>\n",
       "      <th class=\"blank level0\" >&nbsp;</th>\n",
       "      <th id=\"T_b403f_level0_col0\" class=\"col_heading level0 col0\" >Model</th>\n",
       "      <th id=\"T_b403f_level0_col1\" class=\"col_heading level0 col1\" >Accuracy</th>\n",
       "      <th id=\"T_b403f_level0_col2\" class=\"col_heading level0 col2\" >AUC</th>\n",
       "      <th id=\"T_b403f_level0_col3\" class=\"col_heading level0 col3\" >Recall</th>\n",
       "      <th id=\"T_b403f_level0_col4\" class=\"col_heading level0 col4\" >Prec.</th>\n",
       "      <th id=\"T_b403f_level0_col5\" class=\"col_heading level0 col5\" >F1</th>\n",
       "      <th id=\"T_b403f_level0_col6\" class=\"col_heading level0 col6\" >Kappa</th>\n",
       "      <th id=\"T_b403f_level0_col7\" class=\"col_heading level0 col7\" >MCC</th>\n",
       "      <th id=\"T_b403f_level0_col8\" class=\"col_heading level0 col8\" >TT (Sec)</th>\n",
       "    </tr>\n",
       "  </thead>\n",
       "  <tbody>\n",
       "    <tr>\n",
       "      <th id=\"T_b403f_level0_row0\" class=\"row_heading level0 row0\" >catboost</th>\n",
       "      <td id=\"T_b403f_row0_col0\" class=\"data row0 col0\" >CatBoost Classifier</td>\n",
       "      <td id=\"T_b403f_row0_col1\" class=\"data row0 col1\" >0.7938</td>\n",
       "      <td id=\"T_b403f_row0_col2\" class=\"data row0 col2\" >0.6952</td>\n",
       "      <td id=\"T_b403f_row0_col3\" class=\"data row0 col3\" >0.1310</td>\n",
       "      <td id=\"T_b403f_row0_col4\" class=\"data row0 col4\" >0.5584</td>\n",
       "      <td id=\"T_b403f_row0_col5\" class=\"data row0 col5\" >0.2071</td>\n",
       "      <td id=\"T_b403f_row0_col6\" class=\"data row0 col6\" >0.1395</td>\n",
       "      <td id=\"T_b403f_row0_col7\" class=\"data row0 col7\" >0.1894</td>\n",
       "      <td id=\"T_b403f_row0_col8\" class=\"data row0 col8\" >1.7690</td>\n",
       "    </tr>\n",
       "    <tr>\n",
       "      <th id=\"T_b403f_level0_row1\" class=\"row_heading level0 row1\" >rf</th>\n",
       "      <td id=\"T_b403f_row1_col0\" class=\"data row1 col0\" >Random Forest Classifier</td>\n",
       "      <td id=\"T_b403f_row1_col1\" class=\"data row1 col1\" >0.7838</td>\n",
       "      <td id=\"T_b403f_row1_col2\" class=\"data row1 col2\" >0.6936</td>\n",
       "      <td id=\"T_b403f_row1_col3\" class=\"data row1 col3\" >0.2844</td>\n",
       "      <td id=\"T_b403f_row1_col4\" class=\"data row1 col4\" >0.4724</td>\n",
       "      <td id=\"T_b403f_row1_col5\" class=\"data row1 col5\" >0.3513</td>\n",
       "      <td id=\"T_b403f_row1_col6\" class=\"data row1 col6\" >0.2335</td>\n",
       "      <td id=\"T_b403f_row1_col7\" class=\"data row1 col7\" >0.2451</td>\n",
       "      <td id=\"T_b403f_row1_col8\" class=\"data row1 col8\" >0.1120</td>\n",
       "    </tr>\n",
       "    <tr>\n",
       "      <th id=\"T_b403f_level0_row2\" class=\"row_heading level0 row2\" >et</th>\n",
       "      <td id=\"T_b403f_row2_col0\" class=\"data row2 col0\" >Extra Trees Classifier</td>\n",
       "      <td id=\"T_b403f_row2_col1\" class=\"data row2 col1\" >0.7714</td>\n",
       "      <td id=\"T_b403f_row2_col2\" class=\"data row2 col2\" >0.6918</td>\n",
       "      <td id=\"T_b403f_row2_col3\" class=\"data row2 col3\" >0.2686</td>\n",
       "      <td id=\"T_b403f_row2_col4\" class=\"data row2 col4\" >0.4273</td>\n",
       "      <td id=\"T_b403f_row2_col5\" class=\"data row2 col5\" >0.3268</td>\n",
       "      <td id=\"T_b403f_row2_col6\" class=\"data row2 col6\" >0.1998</td>\n",
       "      <td id=\"T_b403f_row2_col7\" class=\"data row2 col7\" >0.2082</td>\n",
       "      <td id=\"T_b403f_row2_col8\" class=\"data row2 col8\" >0.0860</td>\n",
       "    </tr>\n",
       "    <tr>\n",
       "      <th id=\"T_b403f_level0_row3\" class=\"row_heading level0 row3\" >gbc</th>\n",
       "      <td id=\"T_b403f_row3_col0\" class=\"data row3 col0\" >Gradient Boosting Classifier</td>\n",
       "      <td id=\"T_b403f_row3_col1\" class=\"data row3 col1\" >0.7900</td>\n",
       "      <td id=\"T_b403f_row3_col2\" class=\"data row3 col2\" >0.6895</td>\n",
       "      <td id=\"T_b403f_row3_col3\" class=\"data row3 col3\" >0.1763</td>\n",
       "      <td id=\"T_b403f_row3_col4\" class=\"data row3 col4\" >0.5105</td>\n",
       "      <td id=\"T_b403f_row3_col5\" class=\"data row3 col5\" >0.2561</td>\n",
       "      <td id=\"T_b403f_row3_col6\" class=\"data row3 col6\" >0.1688</td>\n",
       "      <td id=\"T_b403f_row3_col7\" class=\"data row3 col7\" >0.2024</td>\n",
       "      <td id=\"T_b403f_row3_col8\" class=\"data row3 col8\" >0.0890</td>\n",
       "    </tr>\n",
       "    <tr>\n",
       "      <th id=\"T_b403f_level0_row4\" class=\"row_heading level0 row4\" >ada</th>\n",
       "      <td id=\"T_b403f_row4_col0\" class=\"data row4 col0\" >Ada Boost Classifier</td>\n",
       "      <td id=\"T_b403f_row4_col1\" class=\"data row4 col1\" >0.7833</td>\n",
       "      <td id=\"T_b403f_row4_col2\" class=\"data row4 col2\" >0.6832</td>\n",
       "      <td id=\"T_b403f_row4_col3\" class=\"data row4 col3\" >0.0767</td>\n",
       "      <td id=\"T_b403f_row4_col4\" class=\"data row4 col4\" >0.4575</td>\n",
       "      <td id=\"T_b403f_row4_col5\" class=\"data row4 col5\" >0.1295</td>\n",
       "      <td id=\"T_b403f_row4_col6\" class=\"data row4 col6\" >0.0701</td>\n",
       "      <td id=\"T_b403f_row4_col7\" class=\"data row4 col7\" >0.1098</td>\n",
       "      <td id=\"T_b403f_row4_col8\" class=\"data row4 col8\" >0.0680</td>\n",
       "    </tr>\n",
       "    <tr>\n",
       "      <th id=\"T_b403f_level0_row5\" class=\"row_heading level0 row5\" >lightgbm</th>\n",
       "      <td id=\"T_b403f_row5_col0\" class=\"data row5 col0\" >Light Gradient Boosting Machine</td>\n",
       "      <td id=\"T_b403f_row5_col1\" class=\"data row5 col1\" >0.7929</td>\n",
       "      <td id=\"T_b403f_row5_col2\" class=\"data row5 col2\" >0.6780</td>\n",
       "      <td id=\"T_b403f_row5_col3\" class=\"data row5 col3\" >0.2664</td>\n",
       "      <td id=\"T_b403f_row5_col4\" class=\"data row5 col4\" >0.5145</td>\n",
       "      <td id=\"T_b403f_row5_col5\" class=\"data row5 col5\" >0.3480</td>\n",
       "      <td id=\"T_b403f_row5_col6\" class=\"data row5 col6\" >0.2411</td>\n",
       "      <td id=\"T_b403f_row5_col7\" class=\"data row5 col7\" >0.2603</td>\n",
       "      <td id=\"T_b403f_row5_col8\" class=\"data row5 col8\" >11.2820</td>\n",
       "    </tr>\n",
       "    <tr>\n",
       "      <th id=\"T_b403f_level0_row6\" class=\"row_heading level0 row6\" >xgboost</th>\n",
       "      <td id=\"T_b403f_row6_col0\" class=\"data row6 col0\" >Extreme Gradient Boosting</td>\n",
       "      <td id=\"T_b403f_row6_col1\" class=\"data row6 col1\" >0.7829</td>\n",
       "      <td id=\"T_b403f_row6_col2\" class=\"data row6 col2\" >0.6707</td>\n",
       "      <td id=\"T_b403f_row6_col3\" class=\"data row6 col3\" >0.2867</td>\n",
       "      <td id=\"T_b403f_row6_col4\" class=\"data row6 col4\" >0.4729</td>\n",
       "      <td id=\"T_b403f_row6_col5\" class=\"data row6 col5\" >0.3556</td>\n",
       "      <td id=\"T_b403f_row6_col6\" class=\"data row6 col6\" >0.2353</td>\n",
       "      <td id=\"T_b403f_row6_col7\" class=\"data row6 col7\" >0.2462</td>\n",
       "      <td id=\"T_b403f_row6_col8\" class=\"data row6 col8\" >0.0640</td>\n",
       "    </tr>\n",
       "    <tr>\n",
       "      <th id=\"T_b403f_level0_row7\" class=\"row_heading level0 row7\" >knn</th>\n",
       "      <td id=\"T_b403f_row7_col0\" class=\"data row7 col0\" >K Neighbors Classifier</td>\n",
       "      <td id=\"T_b403f_row7_col1\" class=\"data row7 col1\" >0.7790</td>\n",
       "      <td id=\"T_b403f_row7_col2\" class=\"data row7 col2\" >0.6354</td>\n",
       "      <td id=\"T_b403f_row7_col3\" class=\"data row7 col3\" >0.1919</td>\n",
       "      <td id=\"T_b403f_row7_col4\" class=\"data row7 col4\" >0.4383</td>\n",
       "      <td id=\"T_b403f_row7_col5\" class=\"data row7 col5\" >0.2653</td>\n",
       "      <td id=\"T_b403f_row7_col6\" class=\"data row7 col6\" >0.1599</td>\n",
       "      <td id=\"T_b403f_row7_col7\" class=\"data row7 col7\" >0.1787</td>\n",
       "      <td id=\"T_b403f_row7_col8\" class=\"data row7 col8\" >0.2420</td>\n",
       "    </tr>\n",
       "    <tr>\n",
       "      <th id=\"T_b403f_level0_row8\" class=\"row_heading level0 row8\" >lr</th>\n",
       "      <td id=\"T_b403f_row8_col0\" class=\"data row8 col0\" >Logistic Regression</td>\n",
       "      <td id=\"T_b403f_row8_col1\" class=\"data row8 col1\" >0.7819</td>\n",
       "      <td id=\"T_b403f_row8_col2\" class=\"data row8 col2\" >0.6336</td>\n",
       "      <td id=\"T_b403f_row8_col3\" class=\"data row8 col3\" >0.0428</td>\n",
       "      <td id=\"T_b403f_row8_col4\" class=\"data row8 col4\" >0.3306</td>\n",
       "      <td id=\"T_b403f_row8_col5\" class=\"data row8 col5\" >0.0750</td>\n",
       "      <td id=\"T_b403f_row8_col6\" class=\"data row8 col6\" >0.0326</td>\n",
       "      <td id=\"T_b403f_row8_col7\" class=\"data row8 col7\" >0.0537</td>\n",
       "      <td id=\"T_b403f_row8_col8\" class=\"data row8 col8\" >0.4100</td>\n",
       "    </tr>\n",
       "    <tr>\n",
       "      <th id=\"T_b403f_level0_row9\" class=\"row_heading level0 row9\" >nb</th>\n",
       "      <td id=\"T_b403f_row9_col0\" class=\"data row9 col0\" >Naive Bayes</td>\n",
       "      <td id=\"T_b403f_row9_col1\" class=\"data row9 col1\" >0.7267</td>\n",
       "      <td id=\"T_b403f_row9_col2\" class=\"data row9 col2\" >0.6273</td>\n",
       "      <td id=\"T_b403f_row9_col3\" class=\"data row9 col3\" >0.3046</td>\n",
       "      <td id=\"T_b403f_row9_col4\" class=\"data row9 col4\" >0.3443</td>\n",
       "      <td id=\"T_b403f_row9_col5\" class=\"data row9 col5\" >0.3195</td>\n",
       "      <td id=\"T_b403f_row9_col6\" class=\"data row9 col6\" >0.1506</td>\n",
       "      <td id=\"T_b403f_row9_col7\" class=\"data row9 col7\" >0.1526</td>\n",
       "      <td id=\"T_b403f_row9_col8\" class=\"data row9 col8\" >0.0480</td>\n",
       "    </tr>\n",
       "    <tr>\n",
       "      <th id=\"T_b403f_level0_row10\" class=\"row_heading level0 row10\" >lda</th>\n",
       "      <td id=\"T_b403f_row10_col0\" class=\"data row10 col0\" >Linear Discriminant Analysis</td>\n",
       "      <td id=\"T_b403f_row10_col1\" class=\"data row10 col1\" >0.7757</td>\n",
       "      <td id=\"T_b403f_row10_col2\" class=\"data row10 col2\" >0.6256</td>\n",
       "      <td id=\"T_b403f_row10_col3\" class=\"data row10 col3\" >0.0744</td>\n",
       "      <td id=\"T_b403f_row10_col4\" class=\"data row10 col4\" >0.3949</td>\n",
       "      <td id=\"T_b403f_row10_col5\" class=\"data row10 col5\" >0.1229</td>\n",
       "      <td id=\"T_b403f_row10_col6\" class=\"data row10 col6\" >0.0538</td>\n",
       "      <td id=\"T_b403f_row10_col7\" class=\"data row10 col7\" >0.0836</td>\n",
       "      <td id=\"T_b403f_row10_col8\" class=\"data row10 col8\" >0.0470</td>\n",
       "    </tr>\n",
       "    <tr>\n",
       "      <th id=\"T_b403f_level0_row11\" class=\"row_heading level0 row11\" >qda</th>\n",
       "      <td id=\"T_b403f_row11_col0\" class=\"data row11 col0\" >Quadratic Discriminant Analysis</td>\n",
       "      <td id=\"T_b403f_row11_col1\" class=\"data row11 col1\" >0.7295</td>\n",
       "      <td id=\"T_b403f_row11_col2\" class=\"data row11 col2\" >0.6250</td>\n",
       "      <td id=\"T_b403f_row11_col3\" class=\"data row11 col3\" >0.2053</td>\n",
       "      <td id=\"T_b403f_row11_col4\" class=\"data row11 col4\" >0.3121</td>\n",
       "      <td id=\"T_b403f_row11_col5\" class=\"data row11 col5\" >0.2429</td>\n",
       "      <td id=\"T_b403f_row11_col6\" class=\"data row11 col6\" >0.0872</td>\n",
       "      <td id=\"T_b403f_row11_col7\" class=\"data row11 col7\" >0.0924</td>\n",
       "      <td id=\"T_b403f_row11_col8\" class=\"data row11 col8\" >0.0490</td>\n",
       "    </tr>\n",
       "    <tr>\n",
       "      <th id=\"T_b403f_level0_row12\" class=\"row_heading level0 row12\" >dt</th>\n",
       "      <td id=\"T_b403f_row12_col0\" class=\"data row12 col0\" >Decision Tree Classifier</td>\n",
       "      <td id=\"T_b403f_row12_col1\" class=\"data row12 col1\" >0.7238</td>\n",
       "      <td id=\"T_b403f_row12_col2\" class=\"data row12 col2\" >0.5959</td>\n",
       "      <td id=\"T_b403f_row12_col3\" class=\"data row12 col3\" >0.3747</td>\n",
       "      <td id=\"T_b403f_row12_col4\" class=\"data row12 col4\" >0.3534</td>\n",
       "      <td id=\"T_b403f_row12_col5\" class=\"data row12 col5\" >0.3624</td>\n",
       "      <td id=\"T_b403f_row12_col6\" class=\"data row12 col6\" >0.1869</td>\n",
       "      <td id=\"T_b403f_row12_col7\" class=\"data row12 col7\" >0.1876</td>\n",
       "      <td id=\"T_b403f_row12_col8\" class=\"data row12 col8\" >0.0480</td>\n",
       "    </tr>\n",
       "    <tr>\n",
       "      <th id=\"T_b403f_level0_row13\" class=\"row_heading level0 row13\" >dummy</th>\n",
       "      <td id=\"T_b403f_row13_col0\" class=\"data row13 col0\" >Dummy Classifier</td>\n",
       "      <td id=\"T_b403f_row13_col1\" class=\"data row13 col1\" >0.7890</td>\n",
       "      <td id=\"T_b403f_row13_col2\" class=\"data row13 col2\" >0.5000</td>\n",
       "      <td id=\"T_b403f_row13_col3\" class=\"data row13 col3\" >0.0000</td>\n",
       "      <td id=\"T_b403f_row13_col4\" class=\"data row13 col4\" >0.0000</td>\n",
       "      <td id=\"T_b403f_row13_col5\" class=\"data row13 col5\" >0.0000</td>\n",
       "      <td id=\"T_b403f_row13_col6\" class=\"data row13 col6\" >0.0000</td>\n",
       "      <td id=\"T_b403f_row13_col7\" class=\"data row13 col7\" >0.0000</td>\n",
       "      <td id=\"T_b403f_row13_col8\" class=\"data row13 col8\" >0.0530</td>\n",
       "    </tr>\n",
       "    <tr>\n",
       "      <th id=\"T_b403f_level0_row14\" class=\"row_heading level0 row14\" >svm</th>\n",
       "      <td id=\"T_b403f_row14_col0\" class=\"data row14 col0\" >SVM - Linear Kernel</td>\n",
       "      <td id=\"T_b403f_row14_col1\" class=\"data row14 col1\" >0.7843</td>\n",
       "      <td id=\"T_b403f_row14_col2\" class=\"data row14 col2\" >0.0000</td>\n",
       "      <td id=\"T_b403f_row14_col3\" class=\"data row14 col3\" >0.0135</td>\n",
       "      <td id=\"T_b403f_row14_col4\" class=\"data row14 col4\" >0.1236</td>\n",
       "      <td id=\"T_b403f_row14_col5\" class=\"data row14 col5\" >0.0237</td>\n",
       "      <td id=\"T_b403f_row14_col6\" class=\"data row14 col6\" >0.0056</td>\n",
       "      <td id=\"T_b403f_row14_col7\" class=\"data row14 col7\" >0.0117</td>\n",
       "      <td id=\"T_b403f_row14_col8\" class=\"data row14 col8\" >0.0490</td>\n",
       "    </tr>\n",
       "    <tr>\n",
       "      <th id=\"T_b403f_level0_row15\" class=\"row_heading level0 row15\" >ridge</th>\n",
       "      <td id=\"T_b403f_row15_col0\" class=\"data row15 col0\" >Ridge Classifier</td>\n",
       "      <td id=\"T_b403f_row15_col1\" class=\"data row15 col1\" >0.7852</td>\n",
       "      <td id=\"T_b403f_row15_col2\" class=\"data row15 col2\" >0.0000</td>\n",
       "      <td id=\"T_b403f_row15_col3\" class=\"data row15 col3\" >0.0383</td>\n",
       "      <td id=\"T_b403f_row15_col4\" class=\"data row15 col4\" >0.4112</td>\n",
       "      <td id=\"T_b403f_row15_col5\" class=\"data row15 col5\" >0.0684</td>\n",
       "      <td id=\"T_b403f_row15_col6\" class=\"data row15 col6\" >0.0343</td>\n",
       "      <td id=\"T_b403f_row15_col7\" class=\"data row15 col7\" >0.0655</td>\n",
       "      <td id=\"T_b403f_row15_col8\" class=\"data row15 col8\" >0.0470</td>\n",
       "    </tr>\n",
       "  </tbody>\n",
       "</table>\n"
      ],
      "text/plain": [
       "<pandas.io.formats.style.Styler at 0x7f3fba99be80>"
      ]
     },
     "metadata": {},
     "output_type": "display_data"
    },
    {
     "data": {
      "text/html": [],
      "text/plain": [
       "<IPython.core.display.HTML object>"
      ]
     },
     "metadata": {},
     "output_type": "display_data"
    }
   ],
   "source": [
    "best2 = compare_models(sort='AUC', n_select=2)"
   ]
  },
  {
   "cell_type": "code",
   "execution_count": 8,
   "metadata": {},
   "outputs": [
    {
     "data": {
      "text/html": [],
      "text/plain": [
       "<IPython.core.display.HTML object>"
      ]
     },
     "metadata": {},
     "output_type": "display_data"
    },
    {
     "data": {
      "text/html": [],
      "text/plain": [
       "<IPython.core.display.HTML object>"
      ]
     },
     "metadata": {},
     "output_type": "display_data"
    },
    {
     "data": {
      "text/html": [],
      "text/plain": [
       "<IPython.core.display.HTML object>"
      ]
     },
     "metadata": {},
     "output_type": "display_data"
    }
   ],
   "source": [
    "voting = blend_models(estimator_list=best2, fold=5, method='soft')"
   ]
  },
  {
   "cell_type": "code",
   "execution_count": 9,
   "metadata": {},
   "outputs": [
    {
     "name": "stdout",
     "output_type": "stream",
     "text": [
      "Transformation Pipeline and Model Successfully Saved\n"
     ]
    },
    {
     "data": {
      "text/plain": [
       "(Pipeline(memory=Memory(location=None),\n",
       "          steps=[('numerical_imputer',\n",
       "                  TransformerWrapper(exclude=None,\n",
       "                                     include=['open', 'high', 'low', 'close',\n",
       "                                              'volume'],\n",
       "                                     transformer=SimpleImputer(add_indicator=False,\n",
       "                                                               copy=True,\n",
       "                                                               fill_value=None,\n",
       "                                                               keep_empty_features=False,\n",
       "                                                               missing_values=nan,\n",
       "                                                               strategy='mean',\n",
       "                                                               verbose='deprecated'))),\n",
       "                 ('categorical_imputer',\n",
       "                  TransformerWrapper(exclud...\n",
       "                                                                       criterion='gini',\n",
       "                                                                       max_depth=None,\n",
       "                                                                       max_features='sqrt',\n",
       "                                                                       max_leaf_nodes=None,\n",
       "                                                                       max_samples=None,\n",
       "                                                                       min_impurity_decrease=0.0,\n",
       "                                                                       min_samples_leaf=1,\n",
       "                                                                       min_samples_split=2,\n",
       "                                                                       min_weight_fraction_leaf=0.0,\n",
       "                                                                       n_estimators=100,\n",
       "                                                                       n_jobs=-1,\n",
       "                                                                       oob_score=False,\n",
       "                                                                       random_state=123,\n",
       "                                                                       verbose=0,\n",
       "                                                                       warm_start=False))],\n",
       "                                   flatten_transform=True, n_jobs=-1,\n",
       "                                   verbose=False, voting='soft',\n",
       "                                   weights=None))],\n",
       "          verbose=False),\n",
       " 'ethusdt_5m.pkl')"
      ]
     },
     "execution_count": 9,
     "metadata": {},
     "output_type": "execute_result"
    }
   ],
   "source": [
    "#save model\n",
    "save_model(voting, model_name='ethusdt_5m')"
   ]
  },
  {
   "cell_type": "code",
   "execution_count": 10,
   "metadata": {},
   "outputs": [
    {
     "data": {
      "text/html": [],
      "text/plain": [
       "<IPython.core.display.HTML object>"
      ]
     },
     "metadata": {},
     "output_type": "display_data"
    },
    {
     "data": {
      "image/png": "[encoded data removed]",
      "text/plain": [
       "<Figure size 800x550 with 1 Axes>"
      ]
     },
     "metadata": {},
     "output_type": "display_data"
    }
   ],
   "source": [
    "plot_model(voting, plot='confusion_matrix')"
   ]
  }
 ],
 "metadata": {
  "kernelspec": {
   "display_name": "Python 3",
   "language": "python",
   "name": "python3"
  },
  "language_info": {
   "codemirror_mode": {
    "name": "ipython",
    "version": 3
   },
   "file_extension": ".py",
   "mimetype": "text/x-python",
   "name": "python",
   "nbconvert_exporter": "python",
   "pygments_lexer": "ipython3",
   "version": "3.10.12"
  }
 },
 "nbformat": 4,
 "nbformat_minor": 2
}
