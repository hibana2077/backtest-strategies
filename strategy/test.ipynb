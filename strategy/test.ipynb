{
 "cells": [
  {
   "cell_type": "code",
   "execution_count": 1,
   "metadata": {},
   "outputs": [],
   "source": [
    "import pandas as pd\n",
    "import numpy as np\n",
    "from pycaret.classification import *"
   ]
  },
  {
   "cell_type": "code",
   "execution_count": 2,
   "metadata": {},
   "outputs": [],
   "source": [
    "path = '../data/ETHUSDT_5m.csv'\n",
    "df = pd.read_csv(path)"
   ]
  },
  {
   "cell_type": "code",
   "execution_count": 3,
   "metadata": {},
   "outputs": [],
   "source": [
    "#make label\n",
    "#rule : if next 10 bar is higher than current bar about 0.25%, label is 1, else 0\n",
    "df['label'] = np.where(df['close'].shift(-10) > df['close'] * 1.0025, 1, 0)\n",
    "df = df.dropna()"
   ]
  },
  {
   "cell_type": "code",
   "execution_count": 4,
   "metadata": {},
   "outputs": [
    {
     "data": {
      "text/plain": [
       "label\n",
       "0    8753\n",
       "1    1518\n",
       "dtype: int64"
      ]
     },
     "execution_count": 4,
     "metadata": {},
     "output_type": "execute_result"
    }
   ],
   "source": [
    "df.value_counts('label')"
   ]
  },
  {
   "cell_type": "code",
   "execution_count": 5,
   "metadata": {},
   "outputs": [],
   "source": [
    "df = df.drop(['time'], axis=1)"
   ]
  },
  {
   "cell_type": "code",
   "execution_count": 6,
   "metadata": {},
   "outputs": [
    {
     "data": {
      "text/html": [
       "<style type=\"text/css\">\n",
       "#T_4c77f_row8_col1, #T_4c77f_row12_col1, #T_4c77f_row14_col1 {\n",
       "  background-color: lightgreen;\n",
       "}\n",
       "</style>\n",
       "<table id=\"T_4c77f\">\n",
       "  <thead>\n",
       "    <tr>\n",
       "      <th class=\"blank level0\" >&nbsp;</th>\n",
       "      <th id=\"T_4c77f_level0_col0\" class=\"col_heading level0 col0\" >Description</th>\n",
       "      <th id=\"T_4c77f_level0_col1\" class=\"col_heading level0 col1\" >Value</th>\n",
       "    </tr>\n",
       "  </thead>\n",
       "  <tbody>\n",
       "    <tr>\n",
       "      <th id=\"T_4c77f_level0_row0\" class=\"row_heading level0 row0\" >0</th>\n",
       "      <td id=\"T_4c77f_row0_col0\" class=\"data row0 col0\" >Session id</td>\n",
       "      <td id=\"T_4c77f_row0_col1\" class=\"data row0 col1\" >123</td>\n",
       "    </tr>\n",
       "    <tr>\n",
       "      <th id=\"T_4c77f_level0_row1\" class=\"row_heading level0 row1\" >1</th>\n",
       "      <td id=\"T_4c77f_row1_col0\" class=\"data row1 col0\" >Target</td>\n",
       "      <td id=\"T_4c77f_row1_col1\" class=\"data row1 col1\" >label</td>\n",
       "    </tr>\n",
       "    <tr>\n",
       "      <th id=\"T_4c77f_level0_row2\" class=\"row_heading level0 row2\" >2</th>\n",
       "      <td id=\"T_4c77f_row2_col0\" class=\"data row2 col0\" >Target type</td>\n",
       "      <td id=\"T_4c77f_row2_col1\" class=\"data row2 col1\" >Binary</td>\n",
       "    </tr>\n",
       "    <tr>\n",
       "      <th id=\"T_4c77f_level0_row3\" class=\"row_heading level0 row3\" >3</th>\n",
       "      <td id=\"T_4c77f_row3_col0\" class=\"data row3 col0\" >Original data shape</td>\n",
       "      <td id=\"T_4c77f_row3_col1\" class=\"data row3 col1\" >(10271, 6)</td>\n",
       "    </tr>\n",
       "    <tr>\n",
       "      <th id=\"T_4c77f_level0_row4\" class=\"row_heading level0 row4\" >4</th>\n",
       "      <td id=\"T_4c77f_row4_col0\" class=\"data row4 col0\" >Transformed data shape</td>\n",
       "      <td id=\"T_4c77f_row4_col1\" class=\"data row4 col1\" >(9911, 6)</td>\n",
       "    </tr>\n",
       "    <tr>\n",
       "      <th id=\"T_4c77f_level0_row5\" class=\"row_heading level0 row5\" >5</th>\n",
       "      <td id=\"T_4c77f_row5_col0\" class=\"data row5 col0\" >Transformed train set shape</td>\n",
       "      <td id=\"T_4c77f_row5_col1\" class=\"data row5 col1\" >(6829, 6)</td>\n",
       "    </tr>\n",
       "    <tr>\n",
       "      <th id=\"T_4c77f_level0_row6\" class=\"row_heading level0 row6\" >6</th>\n",
       "      <td id=\"T_4c77f_row6_col0\" class=\"data row6 col0\" >Transformed test set shape</td>\n",
       "      <td id=\"T_4c77f_row6_col1\" class=\"data row6 col1\" >(3082, 6)</td>\n",
       "    </tr>\n",
       "    <tr>\n",
       "      <th id=\"T_4c77f_level0_row7\" class=\"row_heading level0 row7\" >7</th>\n",
       "      <td id=\"T_4c77f_row7_col0\" class=\"data row7 col0\" >Numeric features</td>\n",
       "      <td id=\"T_4c77f_row7_col1\" class=\"data row7 col1\" >5</td>\n",
       "    </tr>\n",
       "    <tr>\n",
       "      <th id=\"T_4c77f_level0_row8\" class=\"row_heading level0 row8\" >8</th>\n",
       "      <td id=\"T_4c77f_row8_col0\" class=\"data row8 col0\" >Preprocess</td>\n",
       "      <td id=\"T_4c77f_row8_col1\" class=\"data row8 col1\" >True</td>\n",
       "    </tr>\n",
       "    <tr>\n",
       "      <th id=\"T_4c77f_level0_row9\" class=\"row_heading level0 row9\" >9</th>\n",
       "      <td id=\"T_4c77f_row9_col0\" class=\"data row9 col0\" >Imputation type</td>\n",
       "      <td id=\"T_4c77f_row9_col1\" class=\"data row9 col1\" >simple</td>\n",
       "    </tr>\n",
       "    <tr>\n",
       "      <th id=\"T_4c77f_level0_row10\" class=\"row_heading level0 row10\" >10</th>\n",
       "      <td id=\"T_4c77f_row10_col0\" class=\"data row10 col0\" >Numeric imputation</td>\n",
       "      <td id=\"T_4c77f_row10_col1\" class=\"data row10 col1\" >mean</td>\n",
       "    </tr>\n",
       "    <tr>\n",
       "      <th id=\"T_4c77f_level0_row11\" class=\"row_heading level0 row11\" >11</th>\n",
       "      <td id=\"T_4c77f_row11_col0\" class=\"data row11 col0\" >Categorical imputation</td>\n",
       "      <td id=\"T_4c77f_row11_col1\" class=\"data row11 col1\" >mode</td>\n",
       "    </tr>\n",
       "    <tr>\n",
       "      <th id=\"T_4c77f_level0_row12\" class=\"row_heading level0 row12\" >12</th>\n",
       "      <td id=\"T_4c77f_row12_col0\" class=\"data row12 col0\" >Remove outliers</td>\n",
       "      <td id=\"T_4c77f_row12_col1\" class=\"data row12 col1\" >True</td>\n",
       "    </tr>\n",
       "    <tr>\n",
       "      <th id=\"T_4c77f_level0_row13\" class=\"row_heading level0 row13\" >13</th>\n",
       "      <td id=\"T_4c77f_row13_col0\" class=\"data row13 col0\" >Outliers threshold</td>\n",
       "      <td id=\"T_4c77f_row13_col1\" class=\"data row13 col1\" >0.050000</td>\n",
       "    </tr>\n",
       "    <tr>\n",
       "      <th id=\"T_4c77f_level0_row14\" class=\"row_heading level0 row14\" >14</th>\n",
       "      <td id=\"T_4c77f_row14_col0\" class=\"data row14 col0\" >Normalize</td>\n",
       "      <td id=\"T_4c77f_row14_col1\" class=\"data row14 col1\" >True</td>\n",
       "    </tr>\n",
       "    <tr>\n",
       "      <th id=\"T_4c77f_level0_row15\" class=\"row_heading level0 row15\" >15</th>\n",
       "      <td id=\"T_4c77f_row15_col0\" class=\"data row15 col0\" >Normalize method</td>\n",
       "      <td id=\"T_4c77f_row15_col1\" class=\"data row15 col1\" >zscore</td>\n",
       "    </tr>\n",
       "    <tr>\n",
       "      <th id=\"T_4c77f_level0_row16\" class=\"row_heading level0 row16\" >16</th>\n",
       "      <td id=\"T_4c77f_row16_col0\" class=\"data row16 col0\" >Fold Generator</td>\n",
       "      <td id=\"T_4c77f_row16_col1\" class=\"data row16 col1\" >StratifiedKFold</td>\n",
       "    </tr>\n",
       "    <tr>\n",
       "      <th id=\"T_4c77f_level0_row17\" class=\"row_heading level0 row17\" >17</th>\n",
       "      <td id=\"T_4c77f_row17_col0\" class=\"data row17 col0\" >Fold Number</td>\n",
       "      <td id=\"T_4c77f_row17_col1\" class=\"data row17 col1\" >10</td>\n",
       "    </tr>\n",
       "    <tr>\n",
       "      <th id=\"T_4c77f_level0_row18\" class=\"row_heading level0 row18\" >18</th>\n",
       "      <td id=\"T_4c77f_row18_col0\" class=\"data row18 col0\" >CPU Jobs</td>\n",
       "      <td id=\"T_4c77f_row18_col1\" class=\"data row18 col1\" >-1</td>\n",
       "    </tr>\n",
       "    <tr>\n",
       "      <th id=\"T_4c77f_level0_row19\" class=\"row_heading level0 row19\" >19</th>\n",
       "      <td id=\"T_4c77f_row19_col0\" class=\"data row19 col0\" >Use GPU</td>\n",
       "      <td id=\"T_4c77f_row19_col1\" class=\"data row19 col1\" >False</td>\n",
       "    </tr>\n",
       "    <tr>\n",
       "      <th id=\"T_4c77f_level0_row20\" class=\"row_heading level0 row20\" >20</th>\n",
       "      <td id=\"T_4c77f_row20_col0\" class=\"data row20 col0\" >Log Experiment</td>\n",
       "      <td id=\"T_4c77f_row20_col1\" class=\"data row20 col1\" >MlflowLogger</td>\n",
       "    </tr>\n",
       "    <tr>\n",
       "      <th id=\"T_4c77f_level0_row21\" class=\"row_heading level0 row21\" >21</th>\n",
       "      <td id=\"T_4c77f_row21_col0\" class=\"data row21 col0\" >Experiment Name</td>\n",
       "      <td id=\"T_4c77f_row21_col1\" class=\"data row21 col1\" >ethusdt_5m</td>\n",
       "    </tr>\n",
       "    <tr>\n",
       "      <th id=\"T_4c77f_level0_row22\" class=\"row_heading level0 row22\" >22</th>\n",
       "      <td id=\"T_4c77f_row22_col0\" class=\"data row22 col0\" >USI</td>\n",
       "      <td id=\"T_4c77f_row22_col1\" class=\"data row22 col1\" >7bcd</td>\n",
       "    </tr>\n",
       "  </tbody>\n",
       "</table>\n"
      ],
      "text/plain": [
       "<pandas.io.formats.style.Styler at 0x1f20774d6f0>"
      ]
     },
     "metadata": {},
     "output_type": "display_data"
    }
   ],
   "source": [
    "s = setup(df, target='label', session_id=123, log_experiment=True, experiment_name='ethusdt_5m',preprocess=True,normalize=True,remove_outliers=True,outliers_method='iforest')"
   ]
  },
  {
   "cell_type": "code",
   "execution_count": 7,
   "metadata": {},
   "outputs": [
    {
     "data": {
      "text/html": [],
      "text/plain": [
       "<IPython.core.display.HTML object>"
      ]
     },
     "metadata": {},
     "output_type": "display_data"
    },
    {
     "data": {
      "text/html": [
       "<div>\n",
       "<style scoped>\n",
       "    .dataframe tbody tr th:only-of-type {\n",
       "        vertical-align: middle;\n",
       "    }\n",
       "\n",
       "    .dataframe tbody tr th {\n",
       "        vertical-align: top;\n",
       "    }\n",
       "\n",
       "    .dataframe thead th {\n",
       "        text-align: right;\n",
       "    }\n",
       "</style>\n",
       "<table border=\"1\" class=\"dataframe\">\n",
       "  <thead>\n",
       "    <tr style=\"text-align: right;\">\n",
       "      <th></th>\n",
       "      <th>Model</th>\n",
       "      <th>Accuracy</th>\n",
       "      <th>AUC</th>\n",
       "      <th>Recall</th>\n",
       "      <th>Prec.</th>\n",
       "      <th>F1</th>\n",
       "      <th>Kappa</th>\n",
       "      <th>MCC</th>\n",
       "      <th>TT (Sec)</th>\n",
       "    </tr>\n",
       "  </thead>\n",
       "  <tbody>\n",
       "  </tbody>\n",
       "</table>\n",
       "</div>"
      ],
      "text/plain": [
       "Empty DataFrame\n",
       "Columns: [Model, Accuracy, AUC, Recall, Prec., F1, Kappa, MCC, TT (Sec)]\n",
       "Index: []"
      ]
     },
     "metadata": {},
     "output_type": "display_data"
    },
    {
     "data": {
      "text/html": [],
      "text/plain": [
       "<IPython.core.display.HTML object>"
      ]
     },
     "metadata": {},
     "output_type": "display_data"
    }
   ],
   "source": [
    "best2 = compare_models(sort='AUC', n_select=2)"
   ]
  },
  {
   "cell_type": "code",
   "execution_count": 8,
   "metadata": {},
   "outputs": [
    {
     "data": {
      "text/html": [],
      "text/plain": [
       "<IPython.core.display.HTML object>"
      ]
     },
     "metadata": {},
     "output_type": "display_data"
    },
    {
     "data": {
      "text/html": [
       "<style type=\"text/css\">\n",
       "#T_8c0f9_row5_col0, #T_8c0f9_row5_col1, #T_8c0f9_row5_col2, #T_8c0f9_row5_col3, #T_8c0f9_row5_col4, #T_8c0f9_row5_col5, #T_8c0f9_row5_col6 {\n",
       "  background: yellow;\n",
       "}\n",
       "</style>\n",
       "<table id=\"T_8c0f9\">\n",
       "  <thead>\n",
       "    <tr>\n",
       "      <th class=\"blank level0\" >&nbsp;</th>\n",
       "      <th id=\"T_8c0f9_level0_col0\" class=\"col_heading level0 col0\" >Accuracy</th>\n",
       "      <th id=\"T_8c0f9_level0_col1\" class=\"col_heading level0 col1\" >AUC</th>\n",
       "      <th id=\"T_8c0f9_level0_col2\" class=\"col_heading level0 col2\" >Recall</th>\n",
       "      <th id=\"T_8c0f9_level0_col3\" class=\"col_heading level0 col3\" >Prec.</th>\n",
       "      <th id=\"T_8c0f9_level0_col4\" class=\"col_heading level0 col4\" >F1</th>\n",
       "      <th id=\"T_8c0f9_level0_col5\" class=\"col_heading level0 col5\" >Kappa</th>\n",
       "      <th id=\"T_8c0f9_level0_col6\" class=\"col_heading level0 col6\" >MCC</th>\n",
       "    </tr>\n",
       "    <tr>\n",
       "      <th class=\"index_name level0\" >Fold</th>\n",
       "      <th class=\"blank col0\" >&nbsp;</th>\n",
       "      <th class=\"blank col1\" >&nbsp;</th>\n",
       "      <th class=\"blank col2\" >&nbsp;</th>\n",
       "      <th class=\"blank col3\" >&nbsp;</th>\n",
       "      <th class=\"blank col4\" >&nbsp;</th>\n",
       "      <th class=\"blank col5\" >&nbsp;</th>\n",
       "      <th class=\"blank col6\" >&nbsp;</th>\n",
       "    </tr>\n",
       "  </thead>\n",
       "  <tbody>\n",
       "    <tr>\n",
       "      <th id=\"T_8c0f9_level0_row0\" class=\"row_heading level0 row0\" >0</th>\n",
       "      <td id=\"T_8c0f9_row0_col0\" class=\"data row0 col0\" >0.8477</td>\n",
       "      <td id=\"T_8c0f9_row0_col1\" class=\"data row0 col1\" >0.6880</td>\n",
       "      <td id=\"T_8c0f9_row0_col2\" class=\"data row0 col2\" >0.0472</td>\n",
       "      <td id=\"T_8c0f9_row0_col3\" class=\"data row0 col3\" >0.3704</td>\n",
       "      <td id=\"T_8c0f9_row0_col4\" class=\"data row0 col4\" >0.0837</td>\n",
       "      <td id=\"T_8c0f9_row0_col5\" class=\"data row0 col5\" >0.0521</td>\n",
       "      <td id=\"T_8c0f9_row0_col6\" class=\"data row0 col6\" >0.0870</td>\n",
       "    </tr>\n",
       "    <tr>\n",
       "      <th id=\"T_8c0f9_level0_row1\" class=\"row_heading level0 row1\" >1</th>\n",
       "      <td id=\"T_8c0f9_row1_col0\" class=\"data row1 col0\" >0.8477</td>\n",
       "      <td id=\"T_8c0f9_row1_col1\" class=\"data row1 col1\" >0.7095</td>\n",
       "      <td id=\"T_8c0f9_row1_col2\" class=\"data row1 col2\" >0.0425</td>\n",
       "      <td id=\"T_8c0f9_row1_col3\" class=\"data row1 col3\" >0.3600</td>\n",
       "      <td id=\"T_8c0f9_row1_col4\" class=\"data row1 col4\" >0.0759</td>\n",
       "      <td id=\"T_8c0f9_row1_col5\" class=\"data row1 col5\" >0.0463</td>\n",
       "      <td id=\"T_8c0f9_row1_col6\" class=\"data row1 col6\" >0.0798</td>\n",
       "    </tr>\n",
       "    <tr>\n",
       "      <th id=\"T_8c0f9_level0_row2\" class=\"row_heading level0 row2\" >2</th>\n",
       "      <td id=\"T_8c0f9_row2_col0\" class=\"data row2 col0\" >0.8463</td>\n",
       "      <td id=\"T_8c0f9_row2_col1\" class=\"data row2 col1\" >0.6722</td>\n",
       "      <td id=\"T_8c0f9_row2_col2\" class=\"data row2 col2\" >0.0516</td>\n",
       "      <td id=\"T_8c0f9_row2_col3\" class=\"data row2 col3\" >0.3667</td>\n",
       "      <td id=\"T_8c0f9_row2_col4\" class=\"data row2 col4\" >0.0905</td>\n",
       "      <td id=\"T_8c0f9_row2_col5\" class=\"data row2 col5\" >0.0560</td>\n",
       "      <td id=\"T_8c0f9_row2_col6\" class=\"data row2 col6\" >0.0898</td>\n",
       "    </tr>\n",
       "    <tr>\n",
       "      <th id=\"T_8c0f9_level0_row3\" class=\"row_heading level0 row3\" >3</th>\n",
       "      <td id=\"T_8c0f9_row3_col0\" class=\"data row3 col0\" >0.8519</td>\n",
       "      <td id=\"T_8c0f9_row3_col1\" class=\"data row3 col1\" >0.6951</td>\n",
       "      <td id=\"T_8c0f9_row3_col2\" class=\"data row3 col2\" >0.0047</td>\n",
       "      <td id=\"T_8c0f9_row3_col3\" class=\"data row3 col3\" >0.5000</td>\n",
       "      <td id=\"T_8c0f9_row3_col4\" class=\"data row3 col4\" >0.0093</td>\n",
       "      <td id=\"T_8c0f9_row3_col5\" class=\"data row3 col5\" >0.0066</td>\n",
       "      <td id=\"T_8c0f9_row3_col6\" class=\"data row3 col6\" >0.0370</td>\n",
       "    </tr>\n",
       "    <tr>\n",
       "      <th id=\"T_8c0f9_level0_row4\" class=\"row_heading level0 row4\" >4</th>\n",
       "      <td id=\"T_8c0f9_row4_col0\" class=\"data row4 col0\" >0.8441</td>\n",
       "      <td id=\"T_8c0f9_row4_col1\" class=\"data row4 col1\" >0.7057</td>\n",
       "      <td id=\"T_8c0f9_row4_col2\" class=\"data row4 col2\" >0.0425</td>\n",
       "      <td id=\"T_8c0f9_row4_col3\" class=\"data row4 col3\" >0.3000</td>\n",
       "      <td id=\"T_8c0f9_row4_col4\" class=\"data row4 col4\" >0.0744</td>\n",
       "      <td id=\"T_8c0f9_row4_col5\" class=\"data row4 col5\" >0.0392</td>\n",
       "      <td id=\"T_8c0f9_row4_col6\" class=\"data row4 col6\" >0.0628</td>\n",
       "    </tr>\n",
       "    <tr>\n",
       "      <th id=\"T_8c0f9_level0_row5\" class=\"row_heading level0 row5\" >Mean</th>\n",
       "      <td id=\"T_8c0f9_row5_col0\" class=\"data row5 col0\" >0.8475</td>\n",
       "      <td id=\"T_8c0f9_row5_col1\" class=\"data row5 col1\" >0.6941</td>\n",
       "      <td id=\"T_8c0f9_row5_col2\" class=\"data row5 col2\" >0.0377</td>\n",
       "      <td id=\"T_8c0f9_row5_col3\" class=\"data row5 col3\" >0.3794</td>\n",
       "      <td id=\"T_8c0f9_row5_col4\" class=\"data row5 col4\" >0.0668</td>\n",
       "      <td id=\"T_8c0f9_row5_col5\" class=\"data row5 col5\" >0.0400</td>\n",
       "      <td id=\"T_8c0f9_row5_col6\" class=\"data row5 col6\" >0.0713</td>\n",
       "    </tr>\n",
       "    <tr>\n",
       "      <th id=\"T_8c0f9_level0_row6\" class=\"row_heading level0 row6\" >Std</th>\n",
       "      <td id=\"T_8c0f9_row6_col0\" class=\"data row6 col0\" >0.0025</td>\n",
       "      <td id=\"T_8c0f9_row6_col1\" class=\"data row6 col1\" >0.0133</td>\n",
       "      <td id=\"T_8c0f9_row6_col2\" class=\"data row6 col2\" >0.0168</td>\n",
       "      <td id=\"T_8c0f9_row6_col3\" class=\"data row6 col3\" >0.0655</td>\n",
       "      <td id=\"T_8c0f9_row6_col4\" class=\"data row6 col4\" >0.0293</td>\n",
       "      <td id=\"T_8c0f9_row6_col5\" class=\"data row6 col5\" >0.0177</td>\n",
       "      <td id=\"T_8c0f9_row6_col6\" class=\"data row6 col6\" >0.0196</td>\n",
       "    </tr>\n",
       "  </tbody>\n",
       "</table>\n"
      ],
      "text/plain": [
       "<pandas.io.formats.style.Styler at 0x1f209832ec0>"
      ]
     },
     "metadata": {},
     "output_type": "display_data"
    },
    {
     "data": {
      "text/html": [],
      "text/plain": [
       "<IPython.core.display.HTML object>"
      ]
     },
     "metadata": {},
     "output_type": "display_data"
    }
   ],
   "source": [
    "voting = blend_models(estimator_list=best2, fold=5, method='soft')"
   ]
  },
  {
   "cell_type": "code",
   "execution_count": 9,
   "metadata": {},
   "outputs": [
    {
     "name": "stdout",
     "output_type": "stream",
     "text": [
      "Transformation Pipeline and Model Successfully Saved\n"
     ]
    },
    {
     "data": {
      "text/plain": [
       "(Pipeline(memory=Memory(location=None),\n",
       "          steps=[('numerical_imputer',\n",
       "                  TransformerWrapper(exclude=None,\n",
       "                                     include=['open', 'high', 'low', 'close',\n",
       "                                              'volume'],\n",
       "                                     transformer=SimpleImputer(add_indicator=False,\n",
       "                                                               copy=True,\n",
       "                                                               fill_value=None,\n",
       "                                                               keep_empty_features=False,\n",
       "                                                               missing_values=nan,\n",
       "                                                               strategy='mean',\n",
       "                                                               verbose='deprecated'))),\n",
       "                 ('categorical_imputer',\n",
       "                  TransformerWrapper(exclud...\n",
       "                                                                           max_features=None,\n",
       "                                                                           max_leaf_nodes=None,\n",
       "                                                                           min_impurity_decrease=0.0,\n",
       "                                                                           min_samples_leaf=1,\n",
       "                                                                           min_samples_split=2,\n",
       "                                                                           min_weight_fraction_leaf=0.0,\n",
       "                                                                           n_estimators=100,\n",
       "                                                                           n_iter_no_change=None,\n",
       "                                                                           random_state=123,\n",
       "                                                                           subsample=1.0,\n",
       "                                                                           tol=0.0001,\n",
       "                                                                           validation_fraction=0.1,\n",
       "                                                                           verbose=0,\n",
       "                                                                           warm_start=False))],\n",
       "                                   flatten_transform=True, n_jobs=-1,\n",
       "                                   verbose=False, voting='soft',\n",
       "                                   weights=None))],\n",
       "          verbose=False),\n",
       " 'ethusdt_5m.pkl')"
      ]
     },
     "execution_count": 9,
     "metadata": {},
     "output_type": "execute_result"
    }
   ],
   "source": [
    "#save model\n",
    "save_model(voting, model_name='ethusdt_5m')"
   ]
  },
  {
   "cell_type": "code",
   "execution_count": 10,
   "metadata": {},
   "outputs": [
    {
     "data": {
      "text/html": [],
      "text/plain": [
       "<IPython.core.display.HTML object>"
      ]
     },
     "metadata": {},
     "output_type": "display_data"
    },
    {
     "data": {
      "image/png": "[encoded data removed]",
      "text/plain": [
       "<Figure size 800x550 with 1 Axes>"
      ]
     },
     "metadata": {},
     "output_type": "display_data"
    }
   ],
   "source": [
    "plot_model(voting, plot='confusion_matrix')"
   ]
  }
 ],
 "metadata": {
  "kernelspec": {
   "display_name": "Python 3",
   "language": "python",
   "name": "python3"
  },
  "language_info": {
   "codemirror_mode": {
    "name": "ipython",
    "version": 3
   },
   "file_extension": ".py",
   "mimetype": "text/x-python",
   "name": "python",
   "nbconvert_exporter": "python",
   "pygments_lexer": "ipython3",
   "version": "3.10.11"
  }
 },
 "nbformat": 4,
 "nbformat_minor": 2
}
